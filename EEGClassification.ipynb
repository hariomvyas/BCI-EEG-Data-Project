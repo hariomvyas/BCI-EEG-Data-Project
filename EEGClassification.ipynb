{
  "nbformat": 4,
  "nbformat_minor": 0,
  "metadata": {
    "colab": {
      "provenance": []
    },
    "kernelspec": {
      "name": "python3",
      "display_name": "Python 3"
    },
    "language_info": {
      "name": "python"
    }
  },
  "cells": [
    {
      "cell_type": "markdown",
      "source": [
        "# ANN (Artificial Neural Network)"
      ],
      "metadata": {
        "id": "J9QigY2Sltsv"
      }
    },
    {
      "cell_type": "code",
      "execution_count": null,
      "metadata": {
        "id": "3RY8A29YRxGm"
      },
      "outputs": [],
      "source": [
        "import pandas as pd\n",
        "import numpy as np\n",
        "import matplotlib.pyplot as plt\n",
        "import seaborn as sns\n",
        "from scipy.io import loadmat\n",
        "plt.rcParams[\"figure.figsize\"] = [10.00, 5.0]\n",
        "plt.rcParams[\"figure.autolayout\"] = True\n",
        "\n",
        "\n",
        "%matplotlib inline"
      ]
    },
    {
      "cell_type": "code",
      "source": [
        "import keras\n",
        "from keras.models import Sequential\n",
        "from keras.layers import Dense, Dropout, Flatten, Conv2D, MaxPooling2D"
      ],
      "metadata": {
        "id": "7mkcoJsXcr11"
      },
      "execution_count": null,
      "outputs": []
    },
    {
      "cell_type": "code",
      "source": [
        "data_path = \"/content/drive/MyDrive/UMBC/RA/EEG Analysis/Data.mat\"\n",
        "sub10_data_path = \"/content/drive/MyDrive/UMBC/RA/EEG Analysis/10 Subjects/Data_10.mat\"\n",
        "\n",
        "\n",
        "data = loadmat(data_path)\n",
        "sub10_data = loadmat(sub10_data_path)"
      ],
      "metadata": {
        "id": "2ryhWH9zR2xE"
      },
      "execution_count": null,
      "outputs": []
    },
    {
      "cell_type": "code",
      "source": [
        "## Testing Data\n",
        "\n",
        "flatdata_test = sub10_data['flat']\n",
        "graspdata_test = sub10_data['grasp']"
      ],
      "metadata": {
        "id": "5Xv7OVimR42Y"
      },
      "execution_count": null,
      "outputs": []
    },
    {
      "cell_type": "code",
      "source": [
        "columns = [\"F4\", \"F42\", \"FC2\", \"C6\", \"C4\", \"C2\", \"CP4\", \"CP2\", \"P4\", \"Elec10\", \"Elec11\", \"Elect12\", \"Elect13\", \"FZ\", \"FCZ\", \"CZ\", \"F3\", \"FC3\", \"FC1\", \"C5\", \"C3\", \"C1\", \"CP3\", \"CP1\", \"P3\", \"Elec26\", \"Elec27\", \"Elec28\", \"Elec29\", \"CPZ\", \"PZ\", \"OZ\"]"
      ],
      "metadata": {
        "id": "t9s1qO6tS_qy"
      },
      "execution_count": null,
      "outputs": []
    },
    {
      "cell_type": "code",
      "source": [
        "# Flat Data\n",
        "\n",
        "flatdata = data['flatdat']\n",
        "\n",
        "columns = [\"F4\", \"F42\", \"FC2\", \"C6\", \"C4\", \"C2\", \"CP4\", \"CP2\", \"P4\", \"Elec10\", \"Elec11\", \"Elect12\", \"Elect13\", \"FZ\", \"FCZ\", \"CZ\", \"F3\", \"FC3\", \"FC1\", \"C5\", \"C3\", \"C1\", \"CP3\", \"CP1\", \"P3\", \"Elec26\", \"Elec27\", \"Elec28\", \"Elec29\", \"CPZ\", \"PZ\", \"OZ\"]\n",
        "\n",
        "flatdata_df = pd.DataFrame(flatdata[:,:,0], columns=columns)\n",
        "for i in range(1,30):\n",
        "  new_df = pd.DataFrame(flatdata[:,:,i], columns=columns)\n",
        "  flatdata_df = pd.concat([flatdata_df, new_df])"
      ],
      "metadata": {
        "id": "WNoTcf3PdN9V"
      },
      "execution_count": null,
      "outputs": []
    },
    {
      "cell_type": "code",
      "source": [
        "# Grasp Data\n",
        "\n",
        "graspdata = data['graspdat']\n",
        "\n",
        "columns = [\"F4\", \"F42\", \"FC2\", \"C6\", \"C4\", \"C2\", \"CP4\", \"CP2\", \"P4\", \"Elec10\", \"Elec11\", \"Elect12\", \"Elect13\", \"FZ\", \"FCZ\", \"CZ\", \"F3\", \"FC3\", \"FC1\", \"C5\", \"C3\", \"C1\", \"CP3\", \"CP1\", \"P3\", \"Elec26\", \"Elec27\", \"Elec28\", \"Elec29\", \"CPZ\", \"PZ\", \"OZ\"]\n",
        "\n",
        "graspdata_df = pd.DataFrame(graspdata[:,:,0], columns=columns)\n",
        "for i in range(1,30):\n",
        "  new_df = pd.DataFrame(graspdata[:,:,i], columns=columns)\n",
        "  graspdata_df = pd.concat([graspdata_df, new_df])"
      ],
      "metadata": {
        "id": "mEDqZ38gdQuY"
      },
      "execution_count": null,
      "outputs": []
    },
    {
      "cell_type": "code",
      "source": [
        "# Using Suject 1's data for testing\n",
        "\n",
        "columns = [\"F4\", \"F42\", \"FC2\", \"C6\", \"C4\", \"C2\", \"CP4\", \"CP2\", \"P4\", \"Elec10\", \"Elec11\", \"Elect12\", \"Elect13\", \"FZ\", \"FCZ\", \"CZ\", \"F3\", \"FC3\", \"FC1\", \"C5\", \"C3\", \"C1\", \"CP3\", \"CP1\", \"P3\", \"Elec26\", \"Elec27\", \"Elec28\", \"Elec29\", \"CPZ\", \"PZ\", \"OZ\"]\n",
        "\n",
        "flatdata_test_df = pd.DataFrame(flatdata_test[:,:,0,0], columns=columns)\n",
        "graspdata_test_df = pd.DataFrame(graspdata_test[:,:,0,0], columns=columns)\n",
        "for i in range(1,30):\n",
        "  new_df = pd.DataFrame(flatdata_test[:,:,i,0], columns=columns)\n",
        "  flatdata_test_df = pd.concat([flatdata_test_df, new_df])\n",
        "\n",
        "for i in range(1,30):\n",
        "  new_df = pd.DataFrame(graspdata_test[:,:,i,0], columns=columns)\n",
        "  graspdata_test_df = pd.concat([graspdata_test_df, new_df])"
      ],
      "metadata": {
        "id": "CN7jNdB3TK4x"
      },
      "execution_count": null,
      "outputs": []
    },
    {
      "cell_type": "code",
      "source": [
        "graspdata_test_df.head(512)"
      ],
      "metadata": {
        "colab": {
          "base_uri": "https://localhost:8080/",
          "height": 487
        },
        "id": "VLDDZ7Q3TPzX",
        "outputId": "ee5fd320-a7a9-43b5-b7c3-150c368b206e"
      },
      "execution_count": null,
      "outputs": [
        {
          "output_type": "execute_result",
          "data": {
            "text/plain": [
              "             F4         F42          FC2           C6           C4  \\\n",
              "0    -12.782626  -35.043099  -506.749712  -213.283770  -218.849196   \n",
              "1    -21.644947  -48.131636  -562.260439  -345.574073  -328.232393   \n",
              "2    -33.323209  -65.463709  -658.370683  -533.006667  -478.217062   \n",
              "3    -26.431270  -64.675233  -605.787122  -556.119216  -485.270383   \n",
              "4     -0.470666  -43.008315  -385.571665  -384.973150  -321.846739   \n",
              "..          ...         ...          ...          ...          ...   \n",
              "507 -180.389199 -134.040634 -1215.285704 -1345.887812 -1301.959807   \n",
              "508 -164.219463 -122.404579 -1090.355865 -1228.457369 -1199.928891   \n",
              "509 -118.552723  -77.375995  -671.855610  -781.599356  -765.799279   \n",
              "510  -89.674394  -46.483882  -393.057275  -469.634945  -454.010843   \n",
              "511 -100.831872  -57.131412  -492.508190  -564.713273  -535.147109   \n",
              "\n",
              "              C2          CP4          CP2           P4       Elec10  ...  \\\n",
              "0    -462.090015  -278.709813   -23.762465   245.899180  -157.316815  ...   \n",
              "1    -560.607378  -469.430297  -266.800620  -121.004550  -243.915570  ...   \n",
              "2    -717.400147  -722.211956  -568.724086  -503.784348  -407.621982  ...   \n",
              "3    -714.838787  -777.043087  -657.304660  -598.066884  -448.452553  ...   \n",
              "4    -498.639293  -574.979981  -474.514913  -346.748389  -313.537438  ...   \n",
              "..           ...          ...          ...          ...          ...  ...   \n",
              "507 -1244.545115 -1186.427206 -1373.173715 -1204.728488 -1300.800813  ...   \n",
              "508 -1118.174927 -1059.307092 -1288.829784 -1076.285722 -1214.627325  ...   \n",
              "509  -705.867684  -598.009706  -899.125538  -527.919740  -790.456706  ...   \n",
              "510  -445.885390  -291.888349  -680.558906  -177.229099  -473.013517  ...   \n",
              "511  -560.817739  -424.976623  -890.612486  -393.534684  -538.627788  ...   \n",
              "\n",
              "            CP3          CP1           P3      Elec26     Elec27      Elec28  \\\n",
              "0    -99.936921  -300.938605  -404.215508 -389.123373 -22.796211 -212.638401   \n",
              "1   -140.294353  -539.509242  -650.464385 -427.362999 -27.046553 -290.887662   \n",
              "2   -257.003966  -795.429579  -884.590908 -500.604491 -33.522736 -405.579278   \n",
              "3   -292.181737  -844.305386  -887.315904 -468.425675 -29.477472 -407.665560   \n",
              "4   -211.798131  -646.613560  -652.092513 -349.739158 -17.237998 -297.491023   \n",
              "..          ...          ...          ...         ...        ...         ...   \n",
              "507 -835.724940 -1195.662148 -1161.737520 -866.086636 -84.724036 -811.242260   \n",
              "508 -603.299529 -1143.615438 -1109.279388 -645.100547 -61.507507 -601.887154   \n",
              "509 -320.809724  -924.806013  -906.443672 -365.891972 -33.298060 -339.810845   \n",
              "510 -383.755105  -934.715681  -943.139958 -430.305329 -40.179320 -416.946460   \n",
              "511 -830.372825 -1298.960267 -1321.324653 -879.644104 -85.836061 -868.193885   \n",
              "\n",
              "          Elec29          CPZ           PZ            OZ  \n",
              "0    -264.201117  -190.601304  -230.909585  -2051.216776  \n",
              "1    -475.636961  -463.935196  -498.248402  -2775.357511  \n",
              "2    -678.717782  -778.178842  -821.608015  -3388.076845  \n",
              "3    -686.355766  -858.405306  -915.490574  -3744.372668  \n",
              "4    -501.852789  -673.705299  -728.180200  -3745.408144  \n",
              "..           ...          ...          ...           ...  \n",
              "507 -1204.698046 -1281.328743 -1277.280625  12524.937608  \n",
              "508 -1086.893198 -1235.525956 -1256.307941  12140.044532  \n",
              "509  -843.650492  -951.860507  -956.147294  11978.395167  \n",
              "510  -889.146007  -879.278737  -854.475379  11813.875183  \n",
              "511 -1301.548881 -1199.125881 -1168.930430  11357.995043  \n",
              "\n",
              "[512 rows x 32 columns]"
            ],
            "text/html": [
              "\n",
              "  <div id=\"df-11d7c3bb-d491-45c2-9ab3-d32e4e063fb7\">\n",
              "    <div class=\"colab-df-container\">\n",
              "      <div>\n",
              "<style scoped>\n",
              "    .dataframe tbody tr th:only-of-type {\n",
              "        vertical-align: middle;\n",
              "    }\n",
              "\n",
              "    .dataframe tbody tr th {\n",
              "        vertical-align: top;\n",
              "    }\n",
              "\n",
              "    .dataframe thead th {\n",
              "        text-align: right;\n",
              "    }\n",
              "</style>\n",
              "<table border=\"1\" class=\"dataframe\">\n",
              "  <thead>\n",
              "    <tr style=\"text-align: right;\">\n",
              "      <th></th>\n",
              "      <th>F4</th>\n",
              "      <th>F42</th>\n",
              "      <th>FC2</th>\n",
              "      <th>C6</th>\n",
              "      <th>C4</th>\n",
              "      <th>C2</th>\n",
              "      <th>CP4</th>\n",
              "      <th>CP2</th>\n",
              "      <th>P4</th>\n",
              "      <th>Elec10</th>\n",
              "      <th>...</th>\n",
              "      <th>CP3</th>\n",
              "      <th>CP1</th>\n",
              "      <th>P3</th>\n",
              "      <th>Elec26</th>\n",
              "      <th>Elec27</th>\n",
              "      <th>Elec28</th>\n",
              "      <th>Elec29</th>\n",
              "      <th>CPZ</th>\n",
              "      <th>PZ</th>\n",
              "      <th>OZ</th>\n",
              "    </tr>\n",
              "  </thead>\n",
              "  <tbody>\n",
              "    <tr>\n",
              "      <th>0</th>\n",
              "      <td>-12.782626</td>\n",
              "      <td>-35.043099</td>\n",
              "      <td>-506.749712</td>\n",
              "      <td>-213.283770</td>\n",
              "      <td>-218.849196</td>\n",
              "      <td>-462.090015</td>\n",
              "      <td>-278.709813</td>\n",
              "      <td>-23.762465</td>\n",
              "      <td>245.899180</td>\n",
              "      <td>-157.316815</td>\n",
              "      <td>...</td>\n",
              "      <td>-99.936921</td>\n",
              "      <td>-300.938605</td>\n",
              "      <td>-404.215508</td>\n",
              "      <td>-389.123373</td>\n",
              "      <td>-22.796211</td>\n",
              "      <td>-212.638401</td>\n",
              "      <td>-264.201117</td>\n",
              "      <td>-190.601304</td>\n",
              "      <td>-230.909585</td>\n",
              "      <td>-2051.216776</td>\n",
              "    </tr>\n",
              "    <tr>\n",
              "      <th>1</th>\n",
              "      <td>-21.644947</td>\n",
              "      <td>-48.131636</td>\n",
              "      <td>-562.260439</td>\n",
              "      <td>-345.574073</td>\n",
              "      <td>-328.232393</td>\n",
              "      <td>-560.607378</td>\n",
              "      <td>-469.430297</td>\n",
              "      <td>-266.800620</td>\n",
              "      <td>-121.004550</td>\n",
              "      <td>-243.915570</td>\n",
              "      <td>...</td>\n",
              "      <td>-140.294353</td>\n",
              "      <td>-539.509242</td>\n",
              "      <td>-650.464385</td>\n",
              "      <td>-427.362999</td>\n",
              "      <td>-27.046553</td>\n",
              "      <td>-290.887662</td>\n",
              "      <td>-475.636961</td>\n",
              "      <td>-463.935196</td>\n",
              "      <td>-498.248402</td>\n",
              "      <td>-2775.357511</td>\n",
              "    </tr>\n",
              "    <tr>\n",
              "      <th>2</th>\n",
              "      <td>-33.323209</td>\n",
              "      <td>-65.463709</td>\n",
              "      <td>-658.370683</td>\n",
              "      <td>-533.006667</td>\n",
              "      <td>-478.217062</td>\n",
              "      <td>-717.400147</td>\n",
              "      <td>-722.211956</td>\n",
              "      <td>-568.724086</td>\n",
              "      <td>-503.784348</td>\n",
              "      <td>-407.621982</td>\n",
              "      <td>...</td>\n",
              "      <td>-257.003966</td>\n",
              "      <td>-795.429579</td>\n",
              "      <td>-884.590908</td>\n",
              "      <td>-500.604491</td>\n",
              "      <td>-33.522736</td>\n",
              "      <td>-405.579278</td>\n",
              "      <td>-678.717782</td>\n",
              "      <td>-778.178842</td>\n",
              "      <td>-821.608015</td>\n",
              "      <td>-3388.076845</td>\n",
              "    </tr>\n",
              "    <tr>\n",
              "      <th>3</th>\n",
              "      <td>-26.431270</td>\n",
              "      <td>-64.675233</td>\n",
              "      <td>-605.787122</td>\n",
              "      <td>-556.119216</td>\n",
              "      <td>-485.270383</td>\n",
              "      <td>-714.838787</td>\n",
              "      <td>-777.043087</td>\n",
              "      <td>-657.304660</td>\n",
              "      <td>-598.066884</td>\n",
              "      <td>-448.452553</td>\n",
              "      <td>...</td>\n",
              "      <td>-292.181737</td>\n",
              "      <td>-844.305386</td>\n",
              "      <td>-887.315904</td>\n",
              "      <td>-468.425675</td>\n",
              "      <td>-29.477472</td>\n",
              "      <td>-407.665560</td>\n",
              "      <td>-686.355766</td>\n",
              "      <td>-858.405306</td>\n",
              "      <td>-915.490574</td>\n",
              "      <td>-3744.372668</td>\n",
              "    </tr>\n",
              "    <tr>\n",
              "      <th>4</th>\n",
              "      <td>-0.470666</td>\n",
              "      <td>-43.008315</td>\n",
              "      <td>-385.571665</td>\n",
              "      <td>-384.973150</td>\n",
              "      <td>-321.846739</td>\n",
              "      <td>-498.639293</td>\n",
              "      <td>-574.979981</td>\n",
              "      <td>-474.514913</td>\n",
              "      <td>-346.748389</td>\n",
              "      <td>-313.537438</td>\n",
              "      <td>...</td>\n",
              "      <td>-211.798131</td>\n",
              "      <td>-646.613560</td>\n",
              "      <td>-652.092513</td>\n",
              "      <td>-349.739158</td>\n",
              "      <td>-17.237998</td>\n",
              "      <td>-297.491023</td>\n",
              "      <td>-501.852789</td>\n",
              "      <td>-673.705299</td>\n",
              "      <td>-728.180200</td>\n",
              "      <td>-3745.408144</td>\n",
              "    </tr>\n",
              "    <tr>\n",
              "      <th>...</th>\n",
              "      <td>...</td>\n",
              "      <td>...</td>\n",
              "      <td>...</td>\n",
              "      <td>...</td>\n",
              "      <td>...</td>\n",
              "      <td>...</td>\n",
              "      <td>...</td>\n",
              "      <td>...</td>\n",
              "      <td>...</td>\n",
              "      <td>...</td>\n",
              "      <td>...</td>\n",
              "      <td>...</td>\n",
              "      <td>...</td>\n",
              "      <td>...</td>\n",
              "      <td>...</td>\n",
              "      <td>...</td>\n",
              "      <td>...</td>\n",
              "      <td>...</td>\n",
              "      <td>...</td>\n",
              "      <td>...</td>\n",
              "      <td>...</td>\n",
              "    </tr>\n",
              "    <tr>\n",
              "      <th>507</th>\n",
              "      <td>-180.389199</td>\n",
              "      <td>-134.040634</td>\n",
              "      <td>-1215.285704</td>\n",
              "      <td>-1345.887812</td>\n",
              "      <td>-1301.959807</td>\n",
              "      <td>-1244.545115</td>\n",
              "      <td>-1186.427206</td>\n",
              "      <td>-1373.173715</td>\n",
              "      <td>-1204.728488</td>\n",
              "      <td>-1300.800813</td>\n",
              "      <td>...</td>\n",
              "      <td>-835.724940</td>\n",
              "      <td>-1195.662148</td>\n",
              "      <td>-1161.737520</td>\n",
              "      <td>-866.086636</td>\n",
              "      <td>-84.724036</td>\n",
              "      <td>-811.242260</td>\n",
              "      <td>-1204.698046</td>\n",
              "      <td>-1281.328743</td>\n",
              "      <td>-1277.280625</td>\n",
              "      <td>12524.937608</td>\n",
              "    </tr>\n",
              "    <tr>\n",
              "      <th>508</th>\n",
              "      <td>-164.219463</td>\n",
              "      <td>-122.404579</td>\n",
              "      <td>-1090.355865</td>\n",
              "      <td>-1228.457369</td>\n",
              "      <td>-1199.928891</td>\n",
              "      <td>-1118.174927</td>\n",
              "      <td>-1059.307092</td>\n",
              "      <td>-1288.829784</td>\n",
              "      <td>-1076.285722</td>\n",
              "      <td>-1214.627325</td>\n",
              "      <td>...</td>\n",
              "      <td>-603.299529</td>\n",
              "      <td>-1143.615438</td>\n",
              "      <td>-1109.279388</td>\n",
              "      <td>-645.100547</td>\n",
              "      <td>-61.507507</td>\n",
              "      <td>-601.887154</td>\n",
              "      <td>-1086.893198</td>\n",
              "      <td>-1235.525956</td>\n",
              "      <td>-1256.307941</td>\n",
              "      <td>12140.044532</td>\n",
              "    </tr>\n",
              "    <tr>\n",
              "      <th>509</th>\n",
              "      <td>-118.552723</td>\n",
              "      <td>-77.375995</td>\n",
              "      <td>-671.855610</td>\n",
              "      <td>-781.599356</td>\n",
              "      <td>-765.799279</td>\n",
              "      <td>-705.867684</td>\n",
              "      <td>-598.009706</td>\n",
              "      <td>-899.125538</td>\n",
              "      <td>-527.919740</td>\n",
              "      <td>-790.456706</td>\n",
              "      <td>...</td>\n",
              "      <td>-320.809724</td>\n",
              "      <td>-924.806013</td>\n",
              "      <td>-906.443672</td>\n",
              "      <td>-365.891972</td>\n",
              "      <td>-33.298060</td>\n",
              "      <td>-339.810845</td>\n",
              "      <td>-843.650492</td>\n",
              "      <td>-951.860507</td>\n",
              "      <td>-956.147294</td>\n",
              "      <td>11978.395167</td>\n",
              "    </tr>\n",
              "    <tr>\n",
              "      <th>510</th>\n",
              "      <td>-89.674394</td>\n",
              "      <td>-46.483882</td>\n",
              "      <td>-393.057275</td>\n",
              "      <td>-469.634945</td>\n",
              "      <td>-454.010843</td>\n",
              "      <td>-445.885390</td>\n",
              "      <td>-291.888349</td>\n",
              "      <td>-680.558906</td>\n",
              "      <td>-177.229099</td>\n",
              "      <td>-473.013517</td>\n",
              "      <td>...</td>\n",
              "      <td>-383.755105</td>\n",
              "      <td>-934.715681</td>\n",
              "      <td>-943.139958</td>\n",
              "      <td>-430.305329</td>\n",
              "      <td>-40.179320</td>\n",
              "      <td>-416.946460</td>\n",
              "      <td>-889.146007</td>\n",
              "      <td>-879.278737</td>\n",
              "      <td>-854.475379</td>\n",
              "      <td>11813.875183</td>\n",
              "    </tr>\n",
              "    <tr>\n",
              "      <th>511</th>\n",
              "      <td>-100.831872</td>\n",
              "      <td>-57.131412</td>\n",
              "      <td>-492.508190</td>\n",
              "      <td>-564.713273</td>\n",
              "      <td>-535.147109</td>\n",
              "      <td>-560.817739</td>\n",
              "      <td>-424.976623</td>\n",
              "      <td>-890.612486</td>\n",
              "      <td>-393.534684</td>\n",
              "      <td>-538.627788</td>\n",
              "      <td>...</td>\n",
              "      <td>-830.372825</td>\n",
              "      <td>-1298.960267</td>\n",
              "      <td>-1321.324653</td>\n",
              "      <td>-879.644104</td>\n",
              "      <td>-85.836061</td>\n",
              "      <td>-868.193885</td>\n",
              "      <td>-1301.548881</td>\n",
              "      <td>-1199.125881</td>\n",
              "      <td>-1168.930430</td>\n",
              "      <td>11357.995043</td>\n",
              "    </tr>\n",
              "  </tbody>\n",
              "</table>\n",
              "<p>512 rows × 32 columns</p>\n",
              "</div>\n",
              "      <button class=\"colab-df-convert\" onclick=\"convertToInteractive('df-11d7c3bb-d491-45c2-9ab3-d32e4e063fb7')\"\n",
              "              title=\"Convert this dataframe to an interactive table.\"\n",
              "              style=\"display:none;\">\n",
              "        \n",
              "  <svg xmlns=\"http://www.w3.org/2000/svg\" height=\"24px\"viewBox=\"0 0 24 24\"\n",
              "       width=\"24px\">\n",
              "    <path d=\"M0 0h24v24H0V0z\" fill=\"none\"/>\n",
              "    <path d=\"M18.56 5.44l.94 2.06.94-2.06 2.06-.94-2.06-.94-.94-2.06-.94 2.06-2.06.94zm-11 1L8.5 8.5l.94-2.06 2.06-.94-2.06-.94L8.5 2.5l-.94 2.06-2.06.94zm10 10l.94 2.06.94-2.06 2.06-.94-2.06-.94-.94-2.06-.94 2.06-2.06.94z\"/><path d=\"M17.41 7.96l-1.37-1.37c-.4-.4-.92-.59-1.43-.59-.52 0-1.04.2-1.43.59L10.3 9.45l-7.72 7.72c-.78.78-.78 2.05 0 2.83L4 21.41c.39.39.9.59 1.41.59.51 0 1.02-.2 1.41-.59l7.78-7.78 2.81-2.81c.8-.78.8-2.07 0-2.86zM5.41 20L4 18.59l7.72-7.72 1.47 1.35L5.41 20z\"/>\n",
              "  </svg>\n",
              "      </button>\n",
              "      \n",
              "  <style>\n",
              "    .colab-df-container {\n",
              "      display:flex;\n",
              "      flex-wrap:wrap;\n",
              "      gap: 12px;\n",
              "    }\n",
              "\n",
              "    .colab-df-convert {\n",
              "      background-color: #E8F0FE;\n",
              "      border: none;\n",
              "      border-radius: 50%;\n",
              "      cursor: pointer;\n",
              "      display: none;\n",
              "      fill: #1967D2;\n",
              "      height: 32px;\n",
              "      padding: 0 0 0 0;\n",
              "      width: 32px;\n",
              "    }\n",
              "\n",
              "    .colab-df-convert:hover {\n",
              "      background-color: #E2EBFA;\n",
              "      box-shadow: 0px 1px 2px rgba(60, 64, 67, 0.3), 0px 1px 3px 1px rgba(60, 64, 67, 0.15);\n",
              "      fill: #174EA6;\n",
              "    }\n",
              "\n",
              "    [theme=dark] .colab-df-convert {\n",
              "      background-color: #3B4455;\n",
              "      fill: #D2E3FC;\n",
              "    }\n",
              "\n",
              "    [theme=dark] .colab-df-convert:hover {\n",
              "      background-color: #434B5C;\n",
              "      box-shadow: 0px 1px 3px 1px rgba(0, 0, 0, 0.15);\n",
              "      filter: drop-shadow(0px 1px 2px rgba(0, 0, 0, 0.3));\n",
              "      fill: #FFFFFF;\n",
              "    }\n",
              "  </style>\n",
              "\n",
              "      <script>\n",
              "        const buttonEl =\n",
              "          document.querySelector('#df-11d7c3bb-d491-45c2-9ab3-d32e4e063fb7 button.colab-df-convert');\n",
              "        buttonEl.style.display =\n",
              "          google.colab.kernel.accessAllowed ? 'block' : 'none';\n",
              "\n",
              "        async function convertToInteractive(key) {\n",
              "          const element = document.querySelector('#df-11d7c3bb-d491-45c2-9ab3-d32e4e063fb7');\n",
              "          const dataTable =\n",
              "            await google.colab.kernel.invokeFunction('convertToInteractive',\n",
              "                                                     [key], {});\n",
              "          if (!dataTable) return;\n",
              "\n",
              "          const docLinkHtml = 'Like what you see? Visit the ' +\n",
              "            '<a target=\"_blank\" href=https://colab.research.google.com/notebooks/data_table.ipynb>data table notebook</a>'\n",
              "            + ' to learn more about interactive tables.';\n",
              "          element.innerHTML = '';\n",
              "          dataTable['output_type'] = 'display_data';\n",
              "          await google.colab.output.renderOutput(dataTable, element);\n",
              "          const docLink = document.createElement('div');\n",
              "          docLink.innerHTML = docLinkHtml;\n",
              "          element.appendChild(docLink);\n",
              "        }\n",
              "      </script>\n",
              "    </div>\n",
              "  </div>\n",
              "  "
            ]
          },
          "metadata": {},
          "execution_count": 9
        }
      ]
    },
    {
      "cell_type": "code",
      "source": [
        "# Define the dimensions of the input data\n",
        "n_trials = 30\n",
        "n_channels = 32\n",
        "n_samples = 512\n",
        "n_classes = 2"
      ],
      "metadata": {
        "id": "fwJvTiqGTUPQ"
      },
      "execution_count": null,
      "outputs": []
    },
    {
      "cell_type": "code",
      "source": [
        "# Create the label data\n",
        "flat_hand_label = np.zeros(n_trials)\n",
        "grasp_hand_label = np.ones(n_trials)\n",
        "labels = np.concatenate([flat_hand_label, grasp_hand_label], axis=0)\n",
        "labels = keras.utils.to_categorical(labels, num_classes=n_classes)"
      ],
      "metadata": {
        "id": "d-Xncplpcx7y"
      },
      "execution_count": null,
      "outputs": []
    },
    {
      "cell_type": "code",
      "source": [
        "# Reshape the data for input into CNN model\n",
        "data_flat = np.transpose(flatdata) # (n_samples, n_trials, n_channels)\n",
        "data_grasp = np.transpose(graspdata) # (n_samples, n_trials, n_channels)"
      ],
      "metadata": {
        "id": "qpCO3jDMi9lY"
      },
      "execution_count": null,
      "outputs": []
    },
    {
      "cell_type": "code",
      "source": [
        "data_flat.shape"
      ],
      "metadata": {
        "colab": {
          "base_uri": "https://localhost:8080/"
        },
        "id": "evqW4iXsjEVF",
        "outputId": "730492ff-b467-4119-ba59-dc13b510dd94"
      },
      "execution_count": null,
      "outputs": [
        {
          "output_type": "execute_result",
          "data": {
            "text/plain": [
              "(30, 32, 512)"
            ]
          },
          "metadata": {},
          "execution_count": 13
        }
      ]
    },
    {
      "cell_type": "code",
      "source": [
        "# Reshape the data for input into the CNN model\n",
        "flat_hand_data = np.expand_dims(data_flat, axis=3)  # shape: (n_trials, n_channels, n_samples, 1)\n",
        "grasp_hand_data = np.expand_dims(data_grasp, axis=3)  # shape: (n_trials, n_channels, n_samples, 1)\n",
        "data = np.concatenate([flat_hand_data, grasp_hand_data], axis=0)"
      ],
      "metadata": {
        "id": "xeFRDaclc5dq"
      },
      "execution_count": null,
      "outputs": []
    },
    {
      "cell_type": "code",
      "source": [
        "# Split the data into training and testing sets\n",
        "from sklearn.model_selection import train_test_split\n",
        "X_train, X_test, y_train, y_test = train_test_split(data, labels, test_size=0.2, random_state=42)"
      ],
      "metadata": {
        "id": "Zvrkk-yLdm99"
      },
      "execution_count": null,
      "outputs": []
    },
    {
      "cell_type": "code",
      "source": [
        "# Build the CNN model\n",
        "model = Sequential()\n",
        "model.add(Conv2D(filters=32, kernel_size=(3, 3), activation='relu', input_shape=(n_channels, n_samples, 1)))\n",
        "model.add(MaxPooling2D(pool_size=(2, 2)))\n",
        "model.add(Conv2D(filters=64, kernel_size=(3, 3), activation='relu'))\n",
        "model.add(MaxPooling2D(pool_size=(2, 2)))\n",
        "model.add(Conv2D(filters=128, kernel_size=(3, 3), activation='relu'))\n",
        "model.add(MaxPooling2D(pool_size=(2, 2)))\n",
        "model.add(Flatten())\n",
        "model.add(Dense(units=128, activation='relu'))\n",
        "model.add(Dropout(rate=0.5))\n",
        "model.add(Dense(units=n_classes, activation='softmax'))"
      ],
      "metadata": {
        "id": "zVvNOCqIdpiy"
      },
      "execution_count": null,
      "outputs": []
    },
    {
      "cell_type": "code",
      "source": [
        "# Compile the model\n",
        "model.compile(optimizer='adam', loss='categorical_crossentropy', metrics=['accuracy'])"
      ],
      "metadata": {
        "id": "et5rCLCkjd73"
      },
      "execution_count": null,
      "outputs": []
    },
    {
      "cell_type": "code",
      "source": [
        "# Train the model\n",
        "history = model.fit(X_train, y_train, epochs=50, batch_size=32, validation_data=(X_test, y_test))"
      ],
      "metadata": {
        "colab": {
          "base_uri": "https://localhost:8080/"
        },
        "id": "SlMlP54Hjgpj",
        "outputId": "164669cf-dc18-45a9-f300-bb84e249413a"
      },
      "execution_count": null,
      "outputs": [
        {
          "output_type": "stream",
          "name": "stdout",
          "text": [
            "Epoch 1/50\n",
            "2/2 [==============================] - 9s 2s/step - loss: 218.2776 - accuracy: 0.6250 - val_loss: 110.9053 - val_accuracy: 0.3333\n",
            "Epoch 2/50\n",
            "2/2 [==============================] - 2s 1s/step - loss: 180.0737 - accuracy: 0.5625 - val_loss: 58.1002 - val_accuracy: 0.6667\n",
            "Epoch 3/50\n",
            "2/2 [==============================] - 3s 1s/step - loss: 59.1475 - accuracy: 0.6250 - val_loss: 33.5430 - val_accuracy: 0.3333\n",
            "Epoch 4/50\n",
            "2/2 [==============================] - 3s 2s/step - loss: 31.4824 - accuracy: 0.6667 - val_loss: 1.7821 - val_accuracy: 0.6667\n",
            "Epoch 5/50\n",
            "2/2 [==============================] - 4s 2s/step - loss: 4.8629 - accuracy: 0.7917 - val_loss: 4.4355 - val_accuracy: 0.8333\n",
            "Epoch 6/50\n",
            "2/2 [==============================] - 3s 947ms/step - loss: 4.0356 - accuracy: 0.8125 - val_loss: 4.0925 - val_accuracy: 0.6667\n",
            "Epoch 7/50\n",
            "2/2 [==============================] - 2s 582ms/step - loss: 0.3389 - accuracy: 0.9375 - val_loss: 2.8453 - val_accuracy: 0.6667\n",
            "Epoch 8/50\n",
            "2/2 [==============================] - 1s 503ms/step - loss: 0.2874 - accuracy: 0.9167 - val_loss: 1.8971 - val_accuracy: 0.7500\n",
            "Epoch 9/50\n",
            "2/2 [==============================] - 1s 563ms/step - loss: 0.0165 - accuracy: 1.0000 - val_loss: 1.7321 - val_accuracy: 0.7500\n",
            "Epoch 10/50\n",
            "2/2 [==============================] - 1s 502ms/step - loss: 0.5535 - accuracy: 0.9375 - val_loss: 2.2888 - val_accuracy: 0.7500\n",
            "Epoch 11/50\n",
            "2/2 [==============================] - 1s 493ms/step - loss: 0.0718 - accuracy: 0.9792 - val_loss: 2.8735 - val_accuracy: 0.7500\n",
            "Epoch 12/50\n",
            "2/2 [==============================] - 2s 924ms/step - loss: 0.0907 - accuracy: 0.9792 - val_loss: 3.0863 - val_accuracy: 0.7500\n",
            "Epoch 13/50\n",
            "2/2 [==============================] - 2s 868ms/step - loss: 0.1064 - accuracy: 0.9792 - val_loss: 2.6998 - val_accuracy: 0.7500\n",
            "Epoch 14/50\n",
            "2/2 [==============================] - 2s 578ms/step - loss: 0.0928 - accuracy: 0.9583 - val_loss: 2.4149 - val_accuracy: 0.8333\n",
            "Epoch 15/50\n",
            "2/2 [==============================] - 1s 493ms/step - loss: 0.1544 - accuracy: 0.9792 - val_loss: 1.9334 - val_accuracy: 0.7500\n",
            "Epoch 16/50\n",
            "2/2 [==============================] - 1s 585ms/step - loss: 0.0187 - accuracy: 1.0000 - val_loss: 1.8192 - val_accuracy: 0.8333\n",
            "Epoch 17/50\n",
            "2/2 [==============================] - 1s 564ms/step - loss: 0.0256 - accuracy: 1.0000 - val_loss: 1.8733 - val_accuracy: 0.8333\n",
            "Epoch 18/50\n",
            "2/2 [==============================] - 1s 472ms/step - loss: 0.0200 - accuracy: 1.0000 - val_loss: 2.4217 - val_accuracy: 0.7500\n",
            "Epoch 19/50\n",
            "2/2 [==============================] - 1s 515ms/step - loss: 0.0883 - accuracy: 0.9792 - val_loss: 2.3426 - val_accuracy: 0.7500\n",
            "Epoch 20/50\n",
            "2/2 [==============================] - 1s 491ms/step - loss: 0.0066 - accuracy: 1.0000 - val_loss: 2.0480 - val_accuracy: 0.8333\n",
            "Epoch 21/50\n",
            "2/2 [==============================] - 2s 735ms/step - loss: 0.0051 - accuracy: 1.0000 - val_loss: 2.1469 - val_accuracy: 0.7500\n",
            "Epoch 22/50\n",
            "2/2 [==============================] - 2s 852ms/step - loss: 0.0277 - accuracy: 0.9792 - val_loss: 2.2856 - val_accuracy: 0.7500\n",
            "Epoch 23/50\n",
            "2/2 [==============================] - 2s 841ms/step - loss: 0.0353 - accuracy: 0.9792 - val_loss: 2.3226 - val_accuracy: 0.7500\n",
            "Epoch 24/50\n",
            "2/2 [==============================] - 1s 556ms/step - loss: 0.0102 - accuracy: 1.0000 - val_loss: 2.4114 - val_accuracy: 0.7500\n",
            "Epoch 25/50\n",
            "2/2 [==============================] - 1s 502ms/step - loss: 0.0084 - accuracy: 1.0000 - val_loss: 2.5269 - val_accuracy: 0.7500\n",
            "Epoch 26/50\n",
            "2/2 [==============================] - 1s 573ms/step - loss: 0.0703 - accuracy: 0.9583 - val_loss: 2.4115 - val_accuracy: 0.7500\n",
            "Epoch 27/50\n",
            "2/2 [==============================] - 1s 592ms/step - loss: 0.0072 - accuracy: 1.0000 - val_loss: 2.3186 - val_accuracy: 0.7500\n",
            "Epoch 28/50\n",
            "2/2 [==============================] - 1s 501ms/step - loss: 0.0067 - accuracy: 1.0000 - val_loss: 2.1311 - val_accuracy: 0.7500\n",
            "Epoch 29/50\n",
            "2/2 [==============================] - 1s 510ms/step - loss: 1.2759e-04 - accuracy: 1.0000 - val_loss: 1.9678 - val_accuracy: 0.8333\n",
            "Epoch 30/50\n",
            "2/2 [==============================] - 1s 564ms/step - loss: 3.2749e-04 - accuracy: 1.0000 - val_loss: 1.8362 - val_accuracy: 0.8333\n",
            "Epoch 31/50\n",
            "2/2 [==============================] - 2s 1s/step - loss: 2.6201e-06 - accuracy: 1.0000 - val_loss: 1.7553 - val_accuracy: 0.8333\n",
            "Epoch 32/50\n",
            "2/2 [==============================] - 2s 945ms/step - loss: 0.0418 - accuracy: 0.9792 - val_loss: 2.5544 - val_accuracy: 0.7500\n",
            "Epoch 33/50\n",
            "2/2 [==============================] - 2s 502ms/step - loss: 4.1939e-04 - accuracy: 1.0000 - val_loss: 3.0070 - val_accuracy: 0.7500\n",
            "Epoch 34/50\n",
            "2/2 [==============================] - 1s 567ms/step - loss: 0.0020 - accuracy: 1.0000 - val_loss: 3.1282 - val_accuracy: 0.7500\n",
            "Epoch 35/50\n",
            "2/2 [==============================] - 1s 570ms/step - loss: 0.0201 - accuracy: 0.9792 - val_loss: 2.9505 - val_accuracy: 0.7500\n",
            "Epoch 36/50\n",
            "2/2 [==============================] - 1s 498ms/step - loss: 3.3717e-05 - accuracy: 1.0000 - val_loss: 3.0089 - val_accuracy: 0.7500\n",
            "Epoch 37/50\n",
            "2/2 [==============================] - 1s 502ms/step - loss: 0.0026 - accuracy: 1.0000 - val_loss: 3.0899 - val_accuracy: 0.7500\n",
            "Epoch 38/50\n",
            "2/2 [==============================] - 1s 502ms/step - loss: 3.4140e-04 - accuracy: 1.0000 - val_loss: 3.0951 - val_accuracy: 0.7500\n",
            "Epoch 39/50\n",
            "2/2 [==============================] - 1s 573ms/step - loss: 1.4762e-04 - accuracy: 1.0000 - val_loss: 3.0713 - val_accuracy: 0.7500\n",
            "Epoch 40/50\n",
            "2/2 [==============================] - 1s 657ms/step - loss: 0.0011 - accuracy: 1.0000 - val_loss: 3.0363 - val_accuracy: 0.7500\n",
            "Epoch 41/50\n",
            "2/2 [==============================] - 2s 919ms/step - loss: 0.0151 - accuracy: 1.0000 - val_loss: 2.6642 - val_accuracy: 0.7500\n",
            "Epoch 42/50\n",
            "2/2 [==============================] - 2s 782ms/step - loss: 0.0256 - accuracy: 0.9792 - val_loss: 1.7632 - val_accuracy: 0.7500\n",
            "Epoch 43/50\n",
            "2/2 [==============================] - 1s 503ms/step - loss: 2.3051e-04 - accuracy: 1.0000 - val_loss: 0.9540 - val_accuracy: 0.9167\n",
            "Epoch 44/50\n",
            "2/2 [==============================] - 1s 586ms/step - loss: 0.1577 - accuracy: 0.9583 - val_loss: 2.4478 - val_accuracy: 0.8333\n",
            "Epoch 45/50\n",
            "2/2 [==============================] - 1s 535ms/step - loss: 0.0115 - accuracy: 1.0000 - val_loss: 2.8701 - val_accuracy: 0.7500\n",
            "Epoch 46/50\n",
            "2/2 [==============================] - 1s 506ms/step - loss: 0.0050 - accuracy: 1.0000 - val_loss: 3.1001 - val_accuracy: 0.7500\n",
            "Epoch 47/50\n",
            "2/2 [==============================] - 1s 579ms/step - loss: 0.0174 - accuracy: 0.9792 - val_loss: 3.3115 - val_accuracy: 0.7500\n",
            "Epoch 48/50\n",
            "2/2 [==============================] - 1s 503ms/step - loss: 0.0210 - accuracy: 1.0000 - val_loss: 3.4407 - val_accuracy: 0.7500\n",
            "Epoch 49/50\n",
            "2/2 [==============================] - 1s 582ms/step - loss: 0.0013 - accuracy: 1.0000 - val_loss: 3.4852 - val_accuracy: 0.7500\n",
            "Epoch 50/50\n",
            "2/2 [==============================] - 2s 901ms/step - loss: 0.0026 - accuracy: 1.0000 - val_loss: 3.5354 - val_accuracy: 0.7500\n"
          ]
        }
      ]
    },
    {
      "cell_type": "code",
      "source": [
        "# Evaluate the model\n",
        "test_loss, test_acc = model.evaluate(X_test, y_test)\n",
        "print(\"Test loss:\", test_loss)\n",
        "print(\"Test accuracy:\", test_acc)"
      ],
      "metadata": {
        "colab": {
          "base_uri": "https://localhost:8080/"
        },
        "id": "caBLGUoWjisH",
        "outputId": "53ee1b01-74df-455c-f414-2927fb992a59"
      },
      "execution_count": null,
      "outputs": [
        {
          "output_type": "stream",
          "name": "stdout",
          "text": [
            "1/1 [==============================] - 0s 101ms/step - loss: 3.5354 - accuracy: 0.7500\n",
            "Test loss: 3.5354440212249756\n",
            "Test accuracy: 0.75\n"
          ]
        }
      ]
    },
    {
      "cell_type": "code",
      "source": [
        "from sklearn.metrics import classification_report\n",
        "\n",
        "# Predict classes for the test data\n",
        "y_pred = model.predict(X_test)\n",
        "y_pred_classes = np.argmax(y_pred, axis=1)\n",
        "y_true = np.argmax(y_test, axis=1)\n",
        "\n",
        "# Generate classification report\n",
        "report = classification_report(y_true, y_pred_classes)\n",
        "print(report)"
      ],
      "metadata": {
        "colab": {
          "base_uri": "https://localhost:8080/"
        },
        "id": "QNQ72KpIj7r0",
        "outputId": "6d25f82e-d18f-4c14-fd9a-07bae61681d4"
      },
      "execution_count": null,
      "outputs": [
        {
          "output_type": "stream",
          "name": "stdout",
          "text": [
            "1/1 [==============================] - 0s 206ms/step\n",
            "              precision    recall  f1-score   support\n",
            "\n",
            "           0       0.60      0.75      0.67         4\n",
            "           1       0.86      0.75      0.80         8\n",
            "\n",
            "    accuracy                           0.75        12\n",
            "   macro avg       0.73      0.75      0.73        12\n",
            "weighted avg       0.77      0.75      0.76        12\n",
            "\n"
          ]
        }
      ]
    },
    {
      "cell_type": "markdown",
      "source": [
        "# EEGTransformer - Transformer based Spatial-Temporal Feature Learning for EEG Decoding\n",
        "\n",
        "Reference -\n",
        "\n",
        "*   https://github.com/vlawhern/arl-eegmodels\n",
        "*   https://github.com/eeyhsong/EEG-Transformer\n",
        "\n",
        "EEGTransformer is a deep learning architecture for EEG classification that uses a multi-head self-attention mechanism to learn the temporal and spatial relationships in EEG data."
      ],
      "metadata": {
        "id": "mIa1VX0rn1gh"
      }
    },
    {
      "cell_type": "markdown",
      "source": [
        "# EEGConformer - EEG Conformer: Convolutional Transformer for EEG Decoding and Visualization\n",
        "\n",
        "Reference -\n",
        "\n",
        "*   https://github.com/eeyhsong/EEG-Conformer\n",
        "\n"
      ],
      "metadata": {
        "id": "TyOGHdMuqzBJ"
      }
    },
    {
      "cell_type": "code",
      "source": [
        "!pip install EEGTransformers"
      ],
      "metadata": {
        "colab": {
          "base_uri": "https://localhost:8080/"
        },
        "id": "k91dI8JJoJW6",
        "outputId": "b90df11a-5222-4aae-b70a-046f66c3c846"
      },
      "execution_count": null,
      "outputs": [
        {
          "output_type": "stream",
          "name": "stdout",
          "text": [
            "Looking in indexes: https://pypi.org/simple, https://us-python.pkg.dev/colab-wheels/public/simple/\n",
            "\u001b[31mERROR: Could not find a version that satisfies the requirement EEGTransformers (from versions: none)\u001b[0m\u001b[31m\n",
            "\u001b[0m\u001b[31mERROR: No matching distribution found for EEGTransformers\u001b[0m\u001b[31m\n",
            "\u001b[0m"
          ]
        }
      ]
    },
    {
      "cell_type": "code",
      "source": [
        "import tensorflow as tf\n",
        "from tensorflow.keras.models import Sequential\n",
        "from tensorflow.keras.layers import Dense, Conv2D, MaxPooling2D, Flatten, Dropout, BatchNormalization\n",
        "from eegtransformer import EEGTransformer"
      ],
      "metadata": {
        "colab": {
          "base_uri": "https://localhost:8080/",
          "height": 339
        },
        "id": "xAa9VBVRkg8h",
        "outputId": "652c4a34-d541-46b8-90e0-c199cb31f758"
      },
      "execution_count": null,
      "outputs": [
        {
          "output_type": "error",
          "ename": "ModuleNotFoundError",
          "evalue": "ignored",
          "traceback": [
            "\u001b[0;31m---------------------------------------------------------------------------\u001b[0m",
            "\u001b[0;31mModuleNotFoundError\u001b[0m                       Traceback (most recent call last)",
            "\u001b[0;32m<ipython-input-22-343f94e07bc6>\u001b[0m in \u001b[0;36m<cell line: 4>\u001b[0;34m()\u001b[0m\n\u001b[1;32m      2\u001b[0m \u001b[0;32mfrom\u001b[0m \u001b[0mtensorflow\u001b[0m\u001b[0;34m.\u001b[0m\u001b[0mkeras\u001b[0m\u001b[0;34m.\u001b[0m\u001b[0mmodels\u001b[0m \u001b[0;32mimport\u001b[0m \u001b[0mSequential\u001b[0m\u001b[0;34m\u001b[0m\u001b[0;34m\u001b[0m\u001b[0m\n\u001b[1;32m      3\u001b[0m \u001b[0;32mfrom\u001b[0m \u001b[0mtensorflow\u001b[0m\u001b[0;34m.\u001b[0m\u001b[0mkeras\u001b[0m\u001b[0;34m.\u001b[0m\u001b[0mlayers\u001b[0m \u001b[0;32mimport\u001b[0m \u001b[0mDense\u001b[0m\u001b[0;34m,\u001b[0m \u001b[0mConv2D\u001b[0m\u001b[0;34m,\u001b[0m \u001b[0mMaxPooling2D\u001b[0m\u001b[0;34m,\u001b[0m \u001b[0mFlatten\u001b[0m\u001b[0;34m,\u001b[0m \u001b[0mDropout\u001b[0m\u001b[0;34m,\u001b[0m \u001b[0mBatchNormalization\u001b[0m\u001b[0;34m\u001b[0m\u001b[0;34m\u001b[0m\u001b[0m\n\u001b[0;32m----> 4\u001b[0;31m \u001b[0;32mfrom\u001b[0m \u001b[0meegtransformer\u001b[0m \u001b[0;32mimport\u001b[0m \u001b[0mEEGTransformer\u001b[0m\u001b[0;34m\u001b[0m\u001b[0;34m\u001b[0m\u001b[0m\n\u001b[0m",
            "\u001b[0;31mModuleNotFoundError\u001b[0m: No module named 'eegtransformer'",
            "",
            "\u001b[0;31m---------------------------------------------------------------------------\u001b[0;32m\nNOTE: If your import is failing due to a missing package, you can\nmanually install dependencies using either !pip or !apt.\n\nTo view examples of installing some common dependencies, click the\n\"Open Examples\" button below.\n\u001b[0;31m---------------------------------------------------------------------------\u001b[0m\n"
          ],
          "errorDetails": {
            "actions": [
              {
                "action": "open_url",
                "actionText": "Open Examples",
                "url": "/notebooks/snippets/importing_libraries.ipynb"
              }
            ]
          }
        }
      ]
    },
    {
      "cell_type": "code",
      "source": [
        "# define the model architecture\n",
        "model = Sequential()\n",
        "model.add(Conv2D(filters=32, kernel_size=(3,3), activation='relu', input_shape=(32, 512, 1)))\n",
        "model.add(BatchNormalization())\n",
        "model.add(MaxPooling2D(pool_size=(2,2)))\n",
        "model.add(Conv2D(filters=64, kernel_size=(3,3), activation='relu'))\n",
        "model.add(BatchNormalization())\n",
        "model.add(MaxPooling2D(pool_size=(2,2)))\n",
        "model.add(Flatten())\n",
        "model.add(Dense(units=128, activation='relu'))\n",
        "model.add(Dropout(rate=0.5))\n",
        "model.add(Dense(units=1, activation='sigmoid'))"
      ],
      "metadata": {
        "id": "U6aGRLeSoHmD"
      },
      "execution_count": null,
      "outputs": []
    },
    {
      "cell_type": "code",
      "source": [
        "# compile the model with EEGTransformer as the loss function and optimizer\n",
        "model.compile(loss=EEGTransformer(256).transform, optimizer='adam', metrics=['accuracy', EEGTransformer(256).accuracy])"
      ],
      "metadata": {
        "id": "Uv1PNrQApgO9"
      },
      "execution_count": null,
      "outputs": []
    },
    {
      "cell_type": "code",
      "source": [
        "# train the model\n",
        "model.fit(X_train, y_train, epochs=10, validation_split=0.2)"
      ],
      "metadata": {
        "id": "foW3mZVxpjH-"
      },
      "execution_count": null,
      "outputs": []
    },
    {
      "cell_type": "code",
      "source": [
        "# evaluate the model\n",
        "test_loss, test_accuracy, test_eeg_accuracy = model.evaluate(X_test, y_test)\n",
        "print(\"Test loss:\", test_loss)\n",
        "print(\"Test accuracy:\", test_accuracy)\n",
        "print(\"Test EEG accuracy:\", test_eeg_accuracy)"
      ],
      "metadata": {
        "id": "yoaHU8TXpl48"
      },
      "execution_count": null,
      "outputs": []
    },
    {
      "cell_type": "markdown",
      "source": [
        "# EEGNet"
      ],
      "metadata": {
        "id": "Y_IUu_XGshto"
      }
    },
    {
      "cell_type": "markdown",
      "source": [
        "## Method 1"
      ],
      "metadata": {
        "id": "N3krmpFKtuRr"
      }
    },
    {
      "cell_type": "code",
      "source": [
        "import numpy as np\n",
        "import tensorflow as tf\n",
        "from tensorflow.keras.models import Model\n",
        "from tensorflow.keras.layers import Input, Dense, Dropout, Conv2D, SeparableConv2D, MaxPooling2D, GlobalAveragePooling2D\n",
        "from tensorflow.keras.layers import BatchNormalization, Activation\n",
        "from tensorflow.keras.regularizers import l2"
      ],
      "metadata": {
        "id": "iKNRMuPmtto7"
      },
      "execution_count": null,
      "outputs": []
    },
    {
      "cell_type": "code",
      "source": [
        "# Define EEGNet model\n",
        "def EEGNet(input_shape, nb_classes, Chans=32, Samples=512,\n",
        "           dropoutRate=0.5, kernLength=64, F1=8,\n",
        "           D=2, F2=16, norm_rate=0.25, dropoutType='Dropout'):\n",
        "\n",
        "    # Start with an input layer\n",
        "    input1 = Input(shape=input_shape)\n",
        "\n",
        "    # DepthwiseConv2D as the first layer\n",
        "    block1 = SeparableConv2D(F1, (1, kernLength), padding='same',\n",
        "                             depth_multiplier=D, use_bias=False,\n",
        "                             name='Conv1', kernel_regularizer=l2(0.0001))(input1)\n",
        "    block1 = BatchNormalization(axis=1)(block1)\n",
        "    block1 = Activation('elu')(block1)\n",
        "\n",
        "    # DepthwiseConv2D as the second layer\n",
        "    block1 = SeparableConv2D(F1, (Chans, 1), use_bias=False,\n",
        "                             depth_multiplier=D, name='Conv2', depthwise_regularizer=l2(0.0001))(block1)\n",
        "    block1 = BatchNormalization(axis=1)(block1)\n",
        "    block1 = Activation('elu')(block1)\n",
        "\n",
        "    # MaxPooling2D with strides of 4 in both dimensions as the third layer\n",
        "    block1 = MaxPooling2D(pool_size=(1, 4), strides=(1, 4), padding='same')(block1)\n",
        "\n",
        "    # Dropout as the fourth layer\n",
        "    block1 = Dropout(dropoutRate)(block1)\n",
        "\n",
        "    # DepthwiseConv2D as the fifth layer\n",
        "    block2 = SeparableConv2D(F2, (1, 16), padding='same', use_bias=False,\n",
        "                             depth_multiplier=D, name='Conv3', depthwise_regularizer=l2(0.0001))(block1)\n",
        "    block2 = BatchNormalization(axis=1)(block2)\n",
        "    block2 = Activation('elu')(block2)\n",
        "\n",
        "    # DepthwiseConv2D as the sixth layer\n",
        "    block2 = SeparableConv2D(F2, (1, 16), use_bias=False,\n",
        "                             depth_multiplier=D, name='Conv4', depthwise_regularizer=l2(0.0001))(block2)\n",
        "    block2 = BatchNormalization(axis=1)(block2)\n",
        "    block2 = Activation('elu')(block2)\n",
        "\n",
        "    # Global Average Pooling as the seventh layer\n",
        "    block2 = GlobalAveragePooling2D()(block2)\n",
        "\n",
        "    # Dropout as the eighth layer\n",
        "    block2 = Dropout(dropoutRate)(block2)\n",
        "\n",
        "    # Dense layer with softmax activation as the ninth layer\n",
        "    output_layer = Dense(nb_classes, activation='softmax')(block2)\n",
        "\n",
        "    # Define model input and output\n",
        "    model = Model(inputs=input1, outputs=output_layer)\n",
        "\n",
        "    return model"
      ],
      "metadata": {
        "id": "qkdzsXO3tq3g"
      },
      "execution_count": null,
      "outputs": []
    },
    {
      "cell_type": "code",
      "source": [
        "# Define input and output dimensions\n",
        "input_shape = (n_channels, n_samples, 1)\n",
        "nb_classes = 2  # 2 classes, Grasp Hand and Flat Hand\n",
        "\n",
        "# Define EEGNet model with input and output dimensions\n",
        "model = EEGNet(input_shape, nb_classes)\n",
        "\n",
        "# Compile the model\n",
        "model.compile(loss='categorical_crossentropy', optimizer='adam', metrics=['accuracy'])\n",
        "\n",
        "# Print model summary\n",
        "print(model.summary())"
      ],
      "metadata": {
        "colab": {
          "base_uri": "https://localhost:8080/"
        },
        "id": "zkDDgLtWt1cV",
        "outputId": "8740f0c2-666a-458d-b97d-2395a2de1ab0"
      },
      "execution_count": null,
      "outputs": [
        {
          "output_type": "stream",
          "name": "stdout",
          "text": [
            "Model: \"model\"\n",
            "_________________________________________________________________\n",
            " Layer (type)                Output Shape              Param #   \n",
            "=================================================================\n",
            " input_1 (InputLayer)        [(None, 32, 512, 1)]      0         \n",
            "                                                                 \n",
            " Conv1 (SeparableConv2D)     (None, 32, 512, 8)        144       \n",
            "                                                                 \n",
            " batch_normalization (BatchN  (None, 32, 512, 8)       128       \n",
            " ormalization)                                                   \n",
            "                                                                 \n",
            " activation (Activation)     (None, 32, 512, 8)        0         \n",
            "                                                                 \n",
            " Conv2 (SeparableConv2D)     (None, 1, 512, 8)         640       \n",
            "                                                                 \n",
            " batch_normalization_1 (Batc  (None, 1, 512, 8)        4         \n",
            " hNormalization)                                                 \n",
            "                                                                 \n",
            " activation_1 (Activation)   (None, 1, 512, 8)         0         \n",
            "                                                                 \n",
            " max_pooling2d_3 (MaxPooling  (None, 1, 128, 8)        0         \n",
            " 2D)                                                             \n",
            "                                                                 \n",
            " dropout_1 (Dropout)         (None, 1, 128, 8)         0         \n",
            "                                                                 \n",
            " Conv3 (SeparableConv2D)     (None, 1, 128, 16)        512       \n",
            "                                                                 \n",
            " batch_normalization_2 (Batc  (None, 1, 128, 16)       4         \n",
            " hNormalization)                                                 \n",
            "                                                                 \n",
            " activation_2 (Activation)   (None, 1, 128, 16)        0         \n",
            "                                                                 \n",
            " Conv4 (SeparableConv2D)     (None, 1, 113, 16)        1024      \n",
            "                                                                 \n",
            " batch_normalization_3 (Batc  (None, 1, 113, 16)       4         \n",
            " hNormalization)                                                 \n",
            "                                                                 \n",
            " activation_3 (Activation)   (None, 1, 113, 16)        0         \n",
            "                                                                 \n",
            " global_average_pooling2d (G  (None, 16)               0         \n",
            " lobalAveragePooling2D)                                          \n",
            "                                                                 \n",
            " dropout_2 (Dropout)         (None, 16)                0         \n",
            "                                                                 \n",
            " dense_2 (Dense)             (None, 2)                 34        \n",
            "                                                                 \n",
            "=================================================================\n",
            "Total params: 2,494\n",
            "Trainable params: 2,424\n",
            "Non-trainable params: 70\n",
            "_________________________________________________________________\n",
            "None\n"
          ]
        }
      ]
    },
    {
      "cell_type": "markdown",
      "source": [
        "## Method 2"
      ],
      "metadata": {
        "id": "NR18ktWquX4O"
      }
    },
    {
      "cell_type": "code",
      "source": [
        "import numpy as np\n",
        "import tensorflow as tf\n",
        "from tensorflow.keras import layers, models, callbacks"
      ],
      "metadata": {
        "id": "TebRVdSMt5Kr"
      },
      "execution_count": null,
      "outputs": []
    },
    {
      "cell_type": "code",
      "source": [
        "# define EEGNet model architecture\n",
        "def EEGNet(input_shape, n_classes):\n",
        "    input_layer = layers.Input(shape=input_shape)\n",
        "\n",
        "    # first convolutional block\n",
        "    block1_conv1 = layers.Conv2D(filters=8, kernel_size=(1, 32), strides=(1, 4))(input_layer)\n",
        "    block1_bn1 = layers.BatchNormalization()(block1_conv1)\n",
        "    block1_act1 = layers.Activation('relu')(block1_bn1)\n",
        "    block1_dropout1 = layers.Dropout(rate=0.25)(block1_act1)\n",
        "    block1_conv2 = layers.DepthwiseConv2D(kernel_size=(2, 1), strides=(2, 1), depth_multiplier=4)(block1_dropout1)\n",
        "    block1_bn2 = layers.BatchNormalization()(block1_conv2)\n",
        "    block1_act2 = layers.Activation('relu')(block1_bn2)\n",
        "    block1_dropout2 = layers.Dropout(rate=0.25)(block1_act2)\n",
        "\n",
        "    # second convolutional block\n",
        "    block2_sepconv1 = layers.SeparableConv2D(filters=16, kernel_size=(1, 16), strides=(1, 2), padding='same')(block1_dropout2)\n",
        "    block2_bn1 = layers.BatchNormalization()(block2_sepconv1)\n",
        "    block2_act1 = layers.Activation('relu')(block2_bn1)\n",
        "    block2_dropout1 = layers.Dropout(rate=0.25)(block2_act1)\n",
        "    block2_sepconv2 = layers.DepthwiseConv2D(kernel_size=(2, 1), strides=(2, 1), depth_multiplier=8)(block2_dropout1)\n",
        "    block2_bn2 = layers.BatchNormalization()(block2_sepconv2)\n",
        "    block2_act2 = layers.Activation('relu')(block2_bn2)\n",
        "    block2_dropout2 = layers.Dropout(rate=0.25)(block2_act2)\n",
        "\n",
        "    # third convolutional block\n",
        "    block3_sepconv1 = layers.SeparableConv2D(filters=32, kernel_size=(1, 8), strides=(1, 2), padding='same')(block2_dropout2)\n",
        "    block3_bn1 = layers.BatchNormalization()(block3_sepconv1)\n",
        "    block3_act1 = layers.Activation('relu')(block3_bn1)\n",
        "    block3_dropout1 = layers.Dropout(rate=0.25)(block3_act1)\n",
        "\n",
        "    # flatten output from third convolutional block\n",
        "    flatten = layers.Flatten()(block3_dropout1)\n",
        "\n",
        "    # dense layer\n",
        "    dense = layers.Dense(units=n_classes, activation='softmax')(flatten)\n",
        "\n",
        "    # define model\n",
        "    model = models.Model(inputs=input_layer, outputs=dense)\n",
        "\n",
        "    return model"
      ],
      "metadata": {
        "id": "2J2pjArpuZse"
      },
      "execution_count": null,
      "outputs": []
    },
    {
      "cell_type": "code",
      "source": [
        "# create EEGNet model\n",
        "model = EEGNet(input_shape=input_shape, n_classes=n_classes)"
      ],
      "metadata": {
        "id": "v7Bzkvp1w8Ez"
      },
      "execution_count": null,
      "outputs": []
    },
    {
      "cell_type": "code",
      "source": [
        "# compile the model\n",
        "model.compile(loss='binary_crossentropy', optimizer='adam', metrics=['accuracy'])"
      ],
      "metadata": {
        "id": "bTvxcGdsvBeW"
      },
      "execution_count": null,
      "outputs": []
    },
    {
      "cell_type": "code",
      "source": [
        "# train the model\n",
        "history = model.fit(X_train, y_train, epochs=50, batch_size=32, validation_data=(X_test, y_test))"
      ],
      "metadata": {
        "colab": {
          "base_uri": "https://localhost:8080/",
          "height": 1000
        },
        "id": "HuHdkAksxAR3",
        "outputId": "20434713-5fad-4aed-a6e6-374ad5aa9160"
      },
      "execution_count": null,
      "outputs": [
        {
          "output_type": "stream",
          "name": "stdout",
          "text": [
            "Epoch 1/50\n"
          ]
        },
        {
          "output_type": "error",
          "ename": "InvalidArgumentError",
          "evalue": "ignored",
          "traceback": [
            "\u001b[0;31m---------------------------------------------------------------------------\u001b[0m",
            "\u001b[0;31mInvalidArgumentError\u001b[0m                      Traceback (most recent call last)",
            "\u001b[0;32m<ipython-input-30-dbf0f4c6b3be>\u001b[0m in \u001b[0;36m<cell line: 2>\u001b[0;34m()\u001b[0m\n\u001b[1;32m      1\u001b[0m \u001b[0;31m# train the model\u001b[0m\u001b[0;34m\u001b[0m\u001b[0;34m\u001b[0m\u001b[0m\n\u001b[0;32m----> 2\u001b[0;31m \u001b[0mhistory\u001b[0m \u001b[0;34m=\u001b[0m \u001b[0mmodel\u001b[0m\u001b[0;34m.\u001b[0m\u001b[0mfit\u001b[0m\u001b[0;34m(\u001b[0m\u001b[0mX_train\u001b[0m\u001b[0;34m,\u001b[0m \u001b[0my_train\u001b[0m\u001b[0;34m,\u001b[0m \u001b[0mepochs\u001b[0m\u001b[0;34m=\u001b[0m\u001b[0;36m50\u001b[0m\u001b[0;34m,\u001b[0m \u001b[0mbatch_size\u001b[0m\u001b[0;34m=\u001b[0m\u001b[0;36m32\u001b[0m\u001b[0;34m,\u001b[0m \u001b[0mvalidation_data\u001b[0m\u001b[0;34m=\u001b[0m\u001b[0;34m(\u001b[0m\u001b[0mX_test\u001b[0m\u001b[0;34m,\u001b[0m \u001b[0my_test\u001b[0m\u001b[0;34m)\u001b[0m\u001b[0;34m)\u001b[0m\u001b[0;34m\u001b[0m\u001b[0;34m\u001b[0m\u001b[0m\n\u001b[0m",
            "\u001b[0;32m/usr/local/lib/python3.9/dist-packages/keras/utils/traceback_utils.py\u001b[0m in \u001b[0;36merror_handler\u001b[0;34m(*args, **kwargs)\u001b[0m\n\u001b[1;32m     68\u001b[0m             \u001b[0;31m# To get the full stack trace, call:\u001b[0m\u001b[0;34m\u001b[0m\u001b[0;34m\u001b[0m\u001b[0m\n\u001b[1;32m     69\u001b[0m             \u001b[0;31m# `tf.debugging.disable_traceback_filtering()`\u001b[0m\u001b[0;34m\u001b[0m\u001b[0;34m\u001b[0m\u001b[0m\n\u001b[0;32m---> 70\u001b[0;31m             \u001b[0;32mraise\u001b[0m \u001b[0me\u001b[0m\u001b[0;34m.\u001b[0m\u001b[0mwith_traceback\u001b[0m\u001b[0;34m(\u001b[0m\u001b[0mfiltered_tb\u001b[0m\u001b[0;34m)\u001b[0m \u001b[0;32mfrom\u001b[0m \u001b[0;32mNone\u001b[0m\u001b[0;34m\u001b[0m\u001b[0;34m\u001b[0m\u001b[0m\n\u001b[0m\u001b[1;32m     71\u001b[0m         \u001b[0;32mfinally\u001b[0m\u001b[0;34m:\u001b[0m\u001b[0;34m\u001b[0m\u001b[0;34m\u001b[0m\u001b[0m\n\u001b[1;32m     72\u001b[0m             \u001b[0;32mdel\u001b[0m \u001b[0mfiltered_tb\u001b[0m\u001b[0;34m\u001b[0m\u001b[0;34m\u001b[0m\u001b[0m\n",
            "\u001b[0;32m/usr/local/lib/python3.9/dist-packages/tensorflow/python/eager/execute.py\u001b[0m in \u001b[0;36mquick_execute\u001b[0;34m(op_name, num_outputs, inputs, attrs, ctx, name)\u001b[0m\n\u001b[1;32m     50\u001b[0m   \u001b[0;32mtry\u001b[0m\u001b[0;34m:\u001b[0m\u001b[0;34m\u001b[0m\u001b[0;34m\u001b[0m\u001b[0m\n\u001b[1;32m     51\u001b[0m     \u001b[0mctx\u001b[0m\u001b[0;34m.\u001b[0m\u001b[0mensure_initialized\u001b[0m\u001b[0;34m(\u001b[0m\u001b[0;34m)\u001b[0m\u001b[0;34m\u001b[0m\u001b[0;34m\u001b[0m\u001b[0m\n\u001b[0;32m---> 52\u001b[0;31m     tensors = pywrap_tfe.TFE_Py_Execute(ctx._handle, device_name, op_name,\n\u001b[0m\u001b[1;32m     53\u001b[0m                                         inputs, attrs, num_outputs)\n\u001b[1;32m     54\u001b[0m   \u001b[0;32mexcept\u001b[0m \u001b[0mcore\u001b[0m\u001b[0;34m.\u001b[0m\u001b[0m_NotOkStatusException\u001b[0m \u001b[0;32mas\u001b[0m \u001b[0me\u001b[0m\u001b[0;34m:\u001b[0m\u001b[0;34m\u001b[0m\u001b[0;34m\u001b[0m\u001b[0m\n",
            "\u001b[0;31mInvalidArgumentError\u001b[0m: Graph execution error:\n\nDetected at node 'model_1/depthwise_conv2d/depthwise' defined at (most recent call last):\n    File \"/usr/lib/python3.9/runpy.py\", line 197, in _run_module_as_main\n      return _run_code(code, main_globals, None,\n    File \"/usr/lib/python3.9/runpy.py\", line 87, in _run_code\n      exec(code, run_globals)\n    File \"/usr/local/lib/python3.9/dist-packages/ipykernel_launcher.py\", line 16, in <module>\n      app.launch_new_instance()\n    File \"/usr/local/lib/python3.9/dist-packages/traitlets/config/application.py\", line 992, in launch_instance\n      app.start()\n    File \"/usr/local/lib/python3.9/dist-packages/ipykernel/kernelapp.py\", line 619, in start\n      self.io_loop.start()\n    File \"/usr/local/lib/python3.9/dist-packages/tornado/platform/asyncio.py\", line 215, in start\n      self.asyncio_loop.run_forever()\n    File \"/usr/lib/python3.9/asyncio/base_events.py\", line 601, in run_forever\n      self._run_once()\n    File \"/usr/lib/python3.9/asyncio/base_events.py\", line 1905, in _run_once\n      handle._run()\n    File \"/usr/lib/python3.9/asyncio/events.py\", line 80, in _run\n      self._context.run(self._callback, *self._args)\n    File \"/usr/local/lib/python3.9/dist-packages/tornado/ioloop.py\", line 687, in <lambda>\n      lambda f: self._run_callback(functools.partial(callback, future))\n    File \"/usr/local/lib/python3.9/dist-packages/tornado/ioloop.py\", line 740, in _run_callback\n      ret = callback()\n    File \"/usr/local/lib/python3.9/dist-packages/tornado/gen.py\", line 821, in inner\n      self.ctx_run(self.run)\n    File \"/usr/local/lib/python3.9/dist-packages/tornado/gen.py\", line 782, in run\n      yielded = self.gen.send(value)\n    File \"/usr/local/lib/python3.9/dist-packages/ipykernel/kernelbase.py\", line 361, in process_one\n      yield gen.maybe_future(dispatch(*args))\n    File \"/usr/local/lib/python3.9/dist-packages/tornado/gen.py\", line 234, in wrapper\n      yielded = ctx_run(next, result)\n    File \"/usr/local/lib/python3.9/dist-packages/ipykernel/kernelbase.py\", line 261, in dispatch_shell\n      yield gen.maybe_future(handler(stream, idents, msg))\n    File \"/usr/local/lib/python3.9/dist-packages/tornado/gen.py\", line 234, in wrapper\n      yielded = ctx_run(next, result)\n    File \"/usr/local/lib/python3.9/dist-packages/ipykernel/kernelbase.py\", line 539, in execute_request\n      self.do_execute(\n    File \"/usr/local/lib/python3.9/dist-packages/tornado/gen.py\", line 234, in wrapper\n      yielded = ctx_run(next, result)\n    File \"/usr/local/lib/python3.9/dist-packages/ipykernel/ipkernel.py\", line 302, in do_execute\n      res = shell.run_cell(code, store_history=store_history, silent=silent)\n    File \"/usr/local/lib/python3.9/dist-packages/ipykernel/zmqshell.py\", line 539, in run_cell\n      return super(ZMQInteractiveShell, self).run_cell(*args, **kwargs)\n    File \"/usr/local/lib/python3.9/dist-packages/IPython/core/interactiveshell.py\", line 2975, in run_cell\n      result = self._run_cell(\n    File \"/usr/local/lib/python3.9/dist-packages/IPython/core/interactiveshell.py\", line 3030, in _run_cell\n      return runner(coro)\n    File \"/usr/local/lib/python3.9/dist-packages/IPython/core/async_helpers.py\", line 78, in _pseudo_sync_runner\n      coro.send(None)\n    File \"/usr/local/lib/python3.9/dist-packages/IPython/core/interactiveshell.py\", line 3257, in run_cell_async\n      has_raised = await self.run_ast_nodes(code_ast.body, cell_name,\n    File \"/usr/local/lib/python3.9/dist-packages/IPython/core/interactiveshell.py\", line 3473, in run_ast_nodes\n      if (await self.run_code(code, result,  async_=asy)):\n    File \"/usr/local/lib/python3.9/dist-packages/IPython/core/interactiveshell.py\", line 3553, in run_code\n      exec(code_obj, self.user_global_ns, self.user_ns)\n    File \"<ipython-input-30-dbf0f4c6b3be>\", line 2, in <cell line: 2>\n      history = model.fit(X_train, y_train, epochs=50, batch_size=32, validation_data=(X_test, y_test))\n    File \"/usr/local/lib/python3.9/dist-packages/keras/utils/traceback_utils.py\", line 65, in error_handler\n      return fn(*args, **kwargs)\n    File \"/usr/local/lib/python3.9/dist-packages/keras/engine/training.py\", line 1685, in fit\n      tmp_logs = self.train_function(iterator)\n    File \"/usr/local/lib/python3.9/dist-packages/keras/engine/training.py\", line 1284, in train_function\n      return step_function(self, iterator)\n    File \"/usr/local/lib/python3.9/dist-packages/keras/engine/training.py\", line 1268, in step_function\n      outputs = model.distribute_strategy.run(run_step, args=(data,))\n    File \"/usr/local/lib/python3.9/dist-packages/keras/engine/training.py\", line 1249, in run_step\n      outputs = model.train_step(data)\n    File \"/usr/local/lib/python3.9/dist-packages/keras/engine/training.py\", line 1050, in train_step\n      y_pred = self(x, training=True)\n    File \"/usr/local/lib/python3.9/dist-packages/keras/utils/traceback_utils.py\", line 65, in error_handler\n      return fn(*args, **kwargs)\n    File \"/usr/local/lib/python3.9/dist-packages/keras/engine/training.py\", line 558, in __call__\n      return super().__call__(*args, **kwargs)\n    File \"/usr/local/lib/python3.9/dist-packages/keras/utils/traceback_utils.py\", line 65, in error_handler\n      return fn(*args, **kwargs)\n    File \"/usr/local/lib/python3.9/dist-packages/keras/engine/base_layer.py\", line 1145, in __call__\n      outputs = call_fn(inputs, *args, **kwargs)\n    File \"/usr/local/lib/python3.9/dist-packages/keras/utils/traceback_utils.py\", line 96, in error_handler\n      return fn(*args, **kwargs)\n    File \"/usr/local/lib/python3.9/dist-packages/keras/engine/functional.py\", line 512, in call\n      return self._run_internal_graph(inputs, training=training, mask=mask)\n    File \"/usr/local/lib/python3.9/dist-packages/keras/engine/functional.py\", line 669, in _run_internal_graph\n      outputs = node.layer(*args, **kwargs)\n    File \"/usr/local/lib/python3.9/dist-packages/keras/utils/traceback_utils.py\", line 65, in error_handler\n      return fn(*args, **kwargs)\n    File \"/usr/local/lib/python3.9/dist-packages/keras/engine/base_layer.py\", line 1145, in __call__\n      outputs = call_fn(inputs, *args, **kwargs)\n    File \"/usr/local/lib/python3.9/dist-packages/keras/utils/traceback_utils.py\", line 96, in error_handler\n      return fn(*args, **kwargs)\n    File \"/usr/local/lib/python3.9/dist-packages/keras/layers/convolutional/depthwise_conv2d.py\", line 162, in call\n      outputs = backend.depthwise_conv2d(\n    File \"/usr/local/lib/python3.9/dist-packages/keras/backend.py\", line 6345, in depthwise_conv2d\n      x = tf.compat.v1.nn.depthwise_conv2d(\nNode: 'model_1/depthwise_conv2d/depthwise'\nCurrent implementation only supports equal length strides in the row and column dimensions.\n\t [[{{node model_1/depthwise_conv2d/depthwise}}]] [Op:__inference_train_function_7938]"
          ]
        }
      ]
    },
    {
      "cell_type": "code",
      "source": [
        "# evaluate the model\n",
        "test_loss, test_acc = model.evaluate(X_test, y_test)\n",
        "print(\"Test loss:\", test_loss)\n",
        "print(\"Test accuracy:\", test_acc)"
      ],
      "metadata": {
        "id": "7N7H_nPYxB6R"
      },
      "execution_count": null,
      "outputs": []
    }
  ]
}